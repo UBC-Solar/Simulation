{
 "cells": [
  {
   "cell_type": "code",
   "execution_count": 1,
   "id": "initial_id",
   "metadata": {
    "ExecuteTime": {
     "end_time": "2024-11-27T02:07:24.732849Z",
     "start_time": "2024-11-27T02:07:24.723171Z"
    }
   },
   "outputs": [
    {
     "data": {
      "text/plain": [
       "array([ 8.,  8., 10.,  8.,  6.])"
      ]
     },
     "execution_count": 1,
     "metadata": {},
     "output_type": "execute_result"
    }
   ],
   "source": [
    "import core\n",
    "import numpy as np\n",
    "\n",
    "tick = 1\n",
    "\n",
    "speed_limits = np.array([8, 8, 8, 10, 10, 10, 8, 10, 6, 6, 6]).astype(float)\n",
    "speeds = np.array([12, 12, 10, 8, 6]).astype(float)\n",
    "\n",
    "core.constrain_speeds(speed_limits, speeds, tick)"
   ]
  },
  {
   "cell_type": "code",
   "execution_count": 2,
   "id": "35046db7a420a262",
   "metadata": {
    "ExecuteTime": {
     "end_time": "2024-11-27T01:00:03.882770Z",
     "start_time": "2024-11-27T01:00:03.878847Z"
    }
   },
   "outputs": [],
   "source": [
    "import numpy as np\n",
    "\n",
    "\n",
    "def constrain_speeds_python(\n",
    "    speed_limits: np.ndarray, speeds: np.ndarray, tick: int\n",
    ") -> list[float]:\n",
    "    distance = 0.0\n",
    "    KMH_TO_MS = 1.0 / 3.6\n",
    "\n",
    "    constrained_speeds = []\n",
    "    for speed in speeds:\n",
    "        speed_limit = speed_limits[int(distance)]\n",
    "        vehicle_speed = min(speed_limit, speed)\n",
    "        constrained_speeds.append(vehicle_speed)\n",
    "        distance += vehicle_speed * KMH_TO_MS * tick\n",
    "\n",
    "    return constrained_speeds"
   ]
  },
  {
   "cell_type": "code",
   "execution_count": 3,
   "id": "e882607f-9c5e-4ac2-b9f2-4f2f77b9ae5a",
   "metadata": {
    "ExecuteTime": {
     "end_time": "2024-11-27T01:43:55.185033Z",
     "start_time": "2024-11-27T01:43:55.155044Z"
    }
   },
   "outputs": [
    {
     "data": {
      "text/plain": [
       "[np.float64(8.0),\n",
       " np.float64(8.0),\n",
       " np.float64(10.0),\n",
       " np.float64(8.0),\n",
       " np.float64(6.0)]"
      ]
     },
     "execution_count": 3,
     "metadata": {},
     "output_type": "execute_result"
    }
   ],
   "source": [
    "constrain_speeds_python(speed_limits, speeds, tick)"
   ]
  },
  {
   "cell_type": "code",
   "execution_count": null,
   "id": "1064715a-5178-49bc-bc7c-8285363ad396",
   "metadata": {},
   "outputs": [],
   "source": []
  }
 ],
 "metadata": {
  "kernelspec": {
   "display_name": "Python 3 (ipykernel)",
   "language": "python",
   "name": "python3"
  },
  "language_info": {
   "codemirror_mode": {
    "name": "ipython",
    "version": 3
   },
   "file_extension": ".py",
   "mimetype": "text/x-python",
   "name": "python",
   "nbconvert_exporter": "python",
   "pygments_lexer": "ipython3",
   "version": "3.12.6"
  }
 },
 "nbformat": 4,
 "nbformat_minor": 5
}
