{
 "cells": [
  {
   "cell_type": "markdown",
   "source": [
    "# Preliminary Data Analysis\n",
    "\n",
    "Some preliminary data analysis on the data acquired during regen testing on July 6th, between 22:02 and 22:04 (PST).\n",
    "This notebook takes advantage of the custom `TimeSeries` class, which is a data-analysis centric wrapper around `np.ndarray`."
   ],
   "metadata": {
    "collapsed": false
   }
  },
  {
   "cell_type": "code",
   "execution_count": 2,
   "metadata": {
    "collapsed": true
   },
   "outputs": [
    {
     "ename": "ModuleNotFoundError",
     "evalue": "No module named 'data_analysis'",
     "output_type": "error",
     "traceback": [
      "\u001B[0;31m---------------------------------------------------------------------------\u001B[0m",
      "\u001B[0;31mModuleNotFoundError\u001B[0m                       Traceback (most recent call last)",
      "Cell \u001B[0;32mIn[2], line 1\u001B[0m\n\u001B[0;32m----> 1\u001B[0m \u001B[38;5;28;01mfrom\u001B[39;00m \u001B[38;5;21;01mdata_tools\u001B[39;00m\u001B[38;5;21;01m.\u001B[39;00m\u001B[38;5;21;01mtime_series\u001B[39;00m \u001B[38;5;28;01mimport\u001B[39;00m TimeSeries\n\u001B[1;32m      2\u001B[0m \u001B[38;5;28;01mfrom\u001B[39;00m \u001B[38;5;21;01mdata_tools\u001B[39;00m\u001B[38;5;21;01m.\u001B[39;00m\u001B[38;5;21;01minflux_client\u001B[39;00m \u001B[38;5;28;01mimport\u001B[39;00m InfluxClient\n\u001B[1;32m      4\u001B[0m \u001B[38;5;28;01mimport\u001B[39;00m \u001B[38;5;21;01mmatplotlib\u001B[39;00m\u001B[38;5;21;01m.\u001B[39;00m\u001B[38;5;21;01mpyplot\u001B[39;00m \u001B[38;5;28;01mas\u001B[39;00m \u001B[38;5;21;01mplt\u001B[39;00m\n",
      "File \u001B[0;32m~/Simulation/data_analysis/data_tools/__init__.py:1\u001B[0m\n\u001B[0;32m----> 1\u001B[0m \u001B[38;5;28;01mfrom\u001B[39;00m \u001B[38;5;21;01mdata_analysis\u001B[39;00m\u001B[38;5;21;01m.\u001B[39;00m\u001B[38;5;21;01mdata_tools\u001B[39;00m\u001B[38;5;21;01m.\u001B[39;00m\u001B[38;5;21;01mflux_query_builder\u001B[39;00m \u001B[38;5;28;01mimport\u001B[39;00m FluxQuery, FluxStatement, FluxStatementTemplate\n\u001B[1;32m      2\u001B[0m \u001B[38;5;28;01mfrom\u001B[39;00m \u001B[38;5;21;01mdata_analysis\u001B[39;00m\u001B[38;5;21;01m.\u001B[39;00m\u001B[38;5;21;01mdata_tools\u001B[39;00m\u001B[38;5;21;01m.\u001B[39;00m\u001B[38;5;21;01mtime_series\u001B[39;00m \u001B[38;5;28;01mimport\u001B[39;00m TimeSeries\n",
      "\u001B[0;31mModuleNotFoundError\u001B[0m: No module named 'data_analysis'"
     ]
    }
   ],
   "source": [
    "from data_tools.time_series import TimeSeries\n",
    "from data_tools.influx_client import InfluxClient\n",
    "\n",
    "import matplotlib.pyplot as plt\n",
    "import numpy as np\n",
    "\n",
    "# Setup\n",
    "# 1st Run\n",
    "start = \"2024-07-07T05:02:19Z\"\n",
    "stop = \"2024-07-07T05:04:04Z\"\n",
    "\n",
    "# 2nd Run\n",
    "# start = \"2024-07-07T03:53:15Z\"\n",
    "# stop = \"2024-07-07T03:54:03Z\"\n",
    "\n",
    "# 3rd Run\n",
    "# start = \"2024-07-07T03:57:28Z\"\n",
    "# stop = \"2024-07-07T03:58:26Z\"\n",
    "\n",
    "LVS_CURRENT = 1.5  # Units: A\n",
    "\n",
    "client = InfluxClient()"
   ]
  },
  {
   "cell_type": "markdown",
   "source": [
    "Query the data, then align their x–axes such that math is well-defined."
   ],
   "metadata": {
    "collapsed": false
   }
  },
  {
   "cell_type": "code",
   "execution_count": null,
   "outputs": [],
   "source": [
    "pack_voltage: TimeSeries = client.query_time_series(start, stop, \"TotalPackVoltage\", units=\"V\")\n",
    "pack_current: TimeSeries = client.query_time_series(start, stop, \"PackCurrent\", units=\"A\")\n",
    "vehicle_velocity: TimeSeries = client.query_time_series(start, stop, \"VehicleVelocity\", units=\"m/s\")\n",
    "pack_current, pack_voltage, vehicle_velocity = TimeSeries.align(pack_current, pack_voltage, vehicle_velocity)\n",
    "\n",
    "# Subtract LVS current from pack current\n",
    "pack_current -= LVS_CURRENT"
   ],
   "metadata": {
    "collapsed": false
   }
  },
  {
   "cell_type": "markdown",
   "source": [
    "Plot the data to make sure nothing bad or spooky happened (and matches what's seen on InfluxDB Data Explorer)."
   ],
   "metadata": {
    "collapsed": false
   }
  },
  {
   "cell_type": "code",
   "execution_count": null,
   "outputs": [],
   "source": [
    "pack_voltage.plot(False)\n",
    "pack_current.plot(False)\n",
    "vehicle_velocity.plot(False)\n",
    "plt.show()"
   ],
   "metadata": {
    "collapsed": false
   }
  },
  {
   "cell_type": "markdown",
   "source": [
    "Now, let's find the time that current is negative (regen is occurring)."
   ],
   "metadata": {
    "collapsed": false
   }
  },
  {
   "cell_type": "code",
   "execution_count": null,
   "outputs": [],
   "source": [
    "current_negative_mask = np.where(pack_current < -0.5)[0]\n",
    "\n",
    "# We find the indices, as slicing pack_current with current_negative_mask isn't a well-defined operation\n",
    "first_regen_index = current_negative_mask[0]\n",
    "last_regen_index = current_negative_mask[-1]\n",
    "\n",
    "regen_current = pack_current[first_regen_index:last_regen_index]\n",
    "regen_voltage = pack_voltage[first_regen_index:last_regen_index]\n",
    "regen_current.plot(False)\n",
    "regen_voltage.plot(False)\n",
    "plt.show()"
   ],
   "metadata": {
    "collapsed": false
   }
  },
  {
   "cell_type": "markdown",
   "source": [
    "We can also inspect the change in velocity to get a sense of the change in kinetic energy, estimating a vehicle mass of 300kg."
   ],
   "metadata": {
    "collapsed": false
   }
  },
  {
   "cell_type": "code",
   "execution_count": null,
   "outputs": [],
   "source": [
    "initial_velocity = vehicle_velocity[first_regen_index]                      # Units: m/s\n",
    "final_velocity = vehicle_velocity[last_regen_index]                         # Units: m/s\n",
    "mass: float = 300.                                                          # Units: kg\n",
    "kinetic_energy  = lambda vi, vf: (1./2.) * 300 * (vf**2 - vi**2)            # Units: J\n",
    "delta_kinetic_energy = -kinetic_energy(final_velocity, initial_velocity)    # Units: J\n",
    "\n",
    "print(f\"Initial Velocity: {initial_velocity:.4f} {vehicle_velocity.units}\")\n",
    "print(f\"Final Velocity: {final_velocity:.4f} {vehicle_velocity.units}\")\n",
    "print(f\"Change in Kinetic Energy: {delta_kinetic_energy:.4f} J\")"
   ],
   "metadata": {
    "collapsed": false
   }
  },
  {
   "cell_type": "markdown",
   "source": [
    "Now, let's calculate the battery power during regen.\n",
    "Note: the elementwise-array multiplication returns an `ndarray`, so I use `regen_current.promote()` on the result to get back a `TimeSeries`."
   ],
   "metadata": {
    "collapsed": false
   }
  },
  {
   "cell_type": "code",
   "execution_count": null,
   "outputs": [],
   "source": [
    "regen_power = regen_current.promote(regen_current * regen_voltage)\n",
    "regen_power.units = \"W\"  # Fix units after math\n",
    "regen_power.meta[\"field\"] = \"Pack Power\"\n",
    "regen_power.plot()"
   ],
   "metadata": {
    "collapsed": false
   }
  },
  {
   "cell_type": "markdown",
   "source": [
    "Now, let's integrate with respect to time to get regen energy, and then get efficiency."
   ],
   "metadata": {
    "collapsed": false
   }
  },
  {
   "cell_type": "code",
   "execution_count": null,
   "outputs": [],
   "source": [
    "regen_energy = np.trapz(regen_power, regen_power.x_axis)  # Units: J\n",
    "efficiency: float = regen_energy / delta_kinetic_energy\n",
    "\n",
    "print(f\"Regen Energy: {regen_energy:.3f} J\")\n",
    "print(f\"Regen Efficiency: {efficiency * 100:.2f}%\")"
   ],
   "metadata": {
    "collapsed": false
   }
  }
 ],
 "metadata": {
  "kernelspec": {
   "display_name": "Python 3",
   "language": "python",
   "name": "python3"
  },
  "language_info": {
   "codemirror_mode": {
    "name": "ipython",
    "version": 2
   },
   "file_extension": ".py",
   "mimetype": "text/x-python",
   "name": "python",
   "nbconvert_exporter": "python",
   "pygments_lexer": "ipython2",
   "version": "2.7.6"
  }
 },
 "nbformat": 4,
 "nbformat_minor": 0
}
