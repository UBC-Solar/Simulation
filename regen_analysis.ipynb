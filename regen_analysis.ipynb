{
 "cells": [
  {
   "cell_type": "markdown",
   "metadata": {
    "collapsed": false
   },
   "source": [
    "# Preliminary Data Analysis\n",
    "\n",
    "Some preliminary data analysis on the data acquired during regen testing on July 6th, between 22:02 and 22:04 (PST).\n",
    "This notebook takes advantage of the custom `TimeSeries` class, which is a data-analysis centric wrapper around `np.ndarray`."
   ]
  },
  {
   "cell_type": "code",
   "execution_count": 20,
   "metadata": {
    "collapsed": true
   },
   "outputs": [],
   "source": [
    "from data_analysis.data_tools.time_series import TimeSeries\n",
    "from data_analysis.data_tools.influx_client import InfluxClient\n",
    "\n",
    "from simulation.common import BrightSide\n",
    "\n",
    "import matplotlib.pyplot as plt\n",
    "import numpy as np\n",
    "\n",
    "# 1st Run\n",
    "start = \"2024-07-07T05:02:19Z\"\n",
    "stop = \"2024-07-07T05:04:04Z\"\n",
    "\n",
    "client = InfluxClient()"
   ]
  },
  {
   "cell_type": "markdown",
   "metadata": {
    "collapsed": false
   },
   "source": [
    "Query the data, then align their x–axes such that math is well-defined."
   ]
  },
  {
   "cell_type": "code",
   "execution_count": 33,
   "metadata": {
    "collapsed": false
   },
   "outputs": [],
   "source": [
    "pack_voltage: TimeSeries = client.query_time_series(start, stop, \"TotalPackVoltage\", units=\"V\")\n",
    "pack_current: TimeSeries = client.query_time_series(start, stop, \"PackCurrent\", units=\"A\")\n",
    "vehicle_velocity: TimeSeries = client.query_time_series(start, stop, \"VehicleVelocity\", units=\"m/s\")\n",
    "pack_current, pack_voltage, vehicle_velocity = TimeSeries.align(pack_current, pack_voltage, vehicle_velocity)\n",
    "\n",
    "# Subtract LVS current from pack current\n",
    "pack_current -= BrightSide.lvs_current"
   ]
  },
  {
   "cell_type": "markdown",
   "metadata": {
    "collapsed": false
   },
   "source": [
    "Plot the data to make sure nothing bad or spooky happened (and matches what's seen on InfluxDB Data Explorer)."
   ]
  },
  {
   "cell_type": "code",
   "execution_count": null,
   "metadata": {
    "collapsed": false
   },
   "outputs": [],
   "source": [
    "pack_voltage.plot(False)\n",
    "pack_current.plot(False)\n",
    "vehicle_velocity.plot(False)\n",
    "plt.show()"
   ]
  },
  {
   "cell_type": "markdown",
   "metadata": {
    "collapsed": false
   },
   "source": [
    "Now, let's find the time that current is negative (regen is occurring)."
   ]
  },
  {
   "cell_type": "code",
   "execution_count": null,
   "metadata": {
    "collapsed": false
   },
   "outputs": [],
   "source": [
    "# Find indices where regen occurs\n",
    "current_negative_mask = np.where(pack_current < -0.5)[0]\n",
    "\n",
    "# Group consecutive indices to identify regen periods\n",
    "regen_periods = []\n",
    "current_period = [current_negative_mask[0]] # Start the first regen period with the first negative current index\n",
    "\n",
    "for i in range(1, len(current_negative_mask)):\n",
    "    # If indices are consecutive, extend the current_period\n",
    "    if current_negative_mask[i] == current_negative_mask[i - 1] + 1:\n",
    "        current_period.append(current_negative_mask[i]) \n",
    "    # If indices are not consecutive, add the list of current_period to regen_periods\n",
    "    else:\n",
    "        regen_periods.append(current_period) \n",
    "        current_period = [current_negative_mask[i]] # Start a new current_period with index i\n",
    "\n",
    "regen_periods.append(current_period)  # Add the last current_period to the list of regen periods \n",
    "\n",
    "for period in regen_periods:\n",
    "    # We find the indices, as slicing pack_current with current_negative_mask isn't a well-defined operation\n",
    "    first_regen_index = period[0]\n",
    "    last_regen_index = period[-1]\n",
    "\n",
    "    regen_current = pack_current[first_regen_index:last_regen_index]\n",
    "    regen_voltage = pack_voltage[first_regen_index:last_regen_index]\n",
    "    regen_current.plot(show=False)\n",
    "    regen_voltage.plot(show=False)\n",
    "    plt.show()"
   ]
  },
  {
   "cell_type": "markdown",
   "metadata": {
    "collapsed": false
   },
   "source": [
    "We can also inspect the change in velocity to get a sense of the change in kinetic energy, estimating a vehicle mass of 300kg."
   ]
  },
  {
   "cell_type": "code",
   "execution_count": null,
   "metadata": {
    "collapsed": false
   },
   "outputs": [],
   "source": [
    "period_index = 1 # Keep track of index while printing velocities, energies and efficiencies\n",
    "\n",
    "for period in regen_periods:\n",
    "    initial_velocity = vehicle_velocity[first_regen_index]                              # Units: m/s\n",
    "    final_velocity = vehicle_velocity[last_regen_index]                                 # Units: m/s\n",
    "    kinetic_energy  = lambda vi, vf: 0.5 * BrightSide.vehicle_mass * (vf**2 - vi**2)    # Units: J\n",
    "    delta_kinetic_energy = -kinetic_energy(final_velocity, initial_velocity)            # Units: J\n",
    "\n",
    "    print(f\"Initial Velocity for Period {period_index}: {initial_velocity:.4f} {vehicle_velocity.units}\")\n",
    "    print(f\"Final Velocity for Period {period_index}: {final_velocity:.4f} {vehicle_velocity.units}\")\n",
    "    print(f\"Change in Kinetic Energy for Period {period_index}: {delta_kinetic_energy:.4f} J\")\n",
    "\n",
    "    period_index += 1"
   ]
  },
  {
   "cell_type": "markdown",
   "metadata": {
    "collapsed": false
   },
   "source": [
    "Now, let's calculate the battery power during regen.\n",
    "Note: the elementwise-array multiplication returns an `ndarray`, so I use `regen_current.promote()` on the result to get back a `TimeSeries`."
   ]
  },
  {
   "cell_type": "code",
   "execution_count": null,
   "metadata": {
    "collapsed": false
   },
   "outputs": [],
   "source": [
    "for period in regen_periods:  \n",
    "    regen_power = regen_current.promote(regen_current * regen_voltage)\n",
    "    regen_power.units = \"W\"  # Fix units after math\n",
    "    regen_power.meta[\"field\"] = \"Pack Power\"\n",
    "    regen_power.plot()"
   ]
  },
  {
   "cell_type": "markdown",
   "metadata": {
    "collapsed": false
   },
   "source": [
    "Now, let's integrate with respect to time to get regen energy, and then get efficiency."
   ]
  },
  {
   "cell_type": "code",
   "execution_count": null,
   "metadata": {
    "collapsed": false
   },
   "outputs": [],
   "source": [
    "period_index = 1 # Keep track of index while printing velocities, energies and efficiencies\n",
    "\n",
    "for period in regen_periods:\n",
    "    regen_energy = np.trapz(regen_power, regen_power.x_axis)  # Units: J\n",
    "    efficiency: float = regen_energy / delta_kinetic_energy\n",
    "\n",
    "    print(f\"Regen Energy for Period {period_index}: {regen_energy:.3f} J\")\n",
    "    print(f\"Regen Efficiency for Period {period_index}: {efficiency * 100:.2f}%\")\n",
    "\n",
    "    period_index += 1"
   ]
  }
 ],
 "metadata": {
  "kernelspec": {
   "display_name": "Python 3",
   "language": "python",
   "name": "python3"
  },
  "language_info": {
   "codemirror_mode": {
    "name": "ipython",
    "version": 3
   },
   "file_extension": ".py",
   "mimetype": "text/x-python",
   "name": "python",
   "nbconvert_exporter": "python",
   "pygments_lexer": "ipython3",
   "version": "3.9.13"
  }
 },
 "nbformat": 4,
 "nbformat_minor": 0
}
