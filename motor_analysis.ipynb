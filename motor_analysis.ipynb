{
 "cells": [
  {
   "cell_type": "markdown",
   "source": [
    "# Motor Analysis\n",
    "\n",
    "Some analysis on the experimental and theoretical current draw of our motor.\n",
    "\n",
    "\n",
    "This notebook takes advantage of the custom `TimeSeries` class, which is a data-analysis centric wrapper around `np.ndarray`."
   ],
   "metadata": {
    "collapsed": false
   }
  },
  {
   "cell_type": "code",
   "execution_count": null,
   "metadata": {
    "collapsed": true
   },
   "outputs": [],
   "source": [
    "from data_analysis.data_tools.time_series import TimeSeries\n",
    "from data_analysis.data_tools.influx_client import InfluxClient\n",
    "\n",
    "import numpy as np\n",
    "\n",
    "# NOTE: TIMES SHOULD BE IN UTC!\n",
    "start = \"2024-07-07T05:10:11Z\"\n",
    "stop = \"2024-07-07T05:10:18Z\"\n",
    "\n",
    "# Parameters for Savitsky-Golav filter. SEE https://docs.scipy.org/doc/scipy/reference/generated/scipy.signal.savgol_filter.html#scipy.signal.savgol_filter\n",
    "WINDOW_SIZE = 20\n",
    "POLYNOMIAL_ORDER = 2\n",
    "\n",
    "\n",
    "client = InfluxClient()"
   ]
  },
  {
   "cell_type": "markdown",
   "source": [
    "Query the data, then align their x–axes such that math is well-defined."
   ],
   "metadata": {
    "collapsed": false
   }
  },
  {
   "cell_type": "code",
   "execution_count": null,
   "outputs": [],
   "source": [
    "from scipy import signal\n",
    "\n",
    "motor_voltage: TimeSeries = client.query_time_series(start, stop, \"BatteryVoltage\", units=\"V\")\n",
    "motor_current: TimeSeries = client.query_time_series(start, stop, \"BatteryCurrent\", units=\"A\")\n",
    "vehicle_velocity: TimeSeries = client.query_time_series(start, stop, \"VehicleVelocity\", units=\"m/s\")\n",
    "\n",
    "# Clean up data a bit\n",
    "vehicle_velocity = vehicle_velocity.promote(np.where(vehicle_velocity > 10.0, 0, vehicle_velocity))\n",
    "vehicle_velocity = vehicle_velocity.promote(signal.savgol_filter(vehicle_velocity, WINDOW_SIZE, POLYNOMIAL_ORDER))\n",
    "vehicle_velocity.plot()\n",
    "\n",
    "# Align x-axes\n",
    "motor_current, motor_voltage, vehicle_velocity = TimeSeries.align(motor_current, motor_voltage, vehicle_velocity)"
   ],
   "metadata": {
    "collapsed": false
   }
  },
  {
   "cell_type": "markdown",
   "source": [
    "Plot the data to make sure nothing bad or spooky happened (and matches what's seen on InfluxDB Data Explorer)."
   ],
   "metadata": {
    "collapsed": false
   }
  },
  {
   "cell_type": "markdown",
   "source": [
    "Now, let's calculate motor power."
   ],
   "metadata": {
    "collapsed": false
   }
  },
  {
   "cell_type": "code",
   "execution_count": null,
   "outputs": [],
   "source": [
    "motor_power = motor_current.promote(motor_current * motor_voltage)\n",
    "\n",
    "# Clean it up a bit and fix the metadata\n",
    "motor_power = motor_power.promote(signal.savgol_filter(motor_power, WINDOW_SIZE, POLYNOMIAL_ORDER))\n",
    "motor_power.units = \"W\"\n",
    "motor_power.meta[\"field\"] = \"Motor Power\"\n",
    "motor_power.plot()"
   ],
   "metadata": {
    "collapsed": false
   }
  },
  {
   "cell_type": "markdown",
   "source": [
    "Now, let's use Simulation to predict motor power for the given velocity."
   ],
   "metadata": {
    "collapsed": false
   }
  },
  {
   "cell_type": "code",
   "execution_count": null,
   "outputs": [],
   "source": [
    "from simulation.model.car.motor import BasicMotor\n",
    "\n",
    "speed_kmh = vehicle_velocity.promote(vehicle_velocity * 3.6)\n",
    "speed_kmh.units = \"km/h\"\n",
    "speed_kmh.meta[\"field\"] = \"Vehicle Speed\"\n",
    "\n",
    "gradients = np.zeros_like(speed_kmh)\n",
    "wind_speeds = np.zeros_like(speed_kmh)\n",
    "tick = speed_kmh.granularity\n",
    "\n",
    "# Predict motor energy\n",
    "motor_model = BasicMotor()\n",
    "predicted_motor_energy = motor_model.calculate_energy_in(required_speed_kmh=speed_kmh, gradients=gradients, wind_speeds=wind_speeds, tick=tick)\n",
    "\n",
    "# To convert from energy to power, we need to divide by time\n",
    "predicted_motor_power = motor_power.promote(predicted_motor_energy / tick)\n",
    "predicted_motor_power.meta[\"field\"] = \"Predicted Motor Power\"\n",
    "predicted_motor_power.plot()"
   ],
   "metadata": {
    "collapsed": false
   }
  },
  {
   "cell_type": "markdown",
   "source": [
    "Not very good. Let's make it better."
   ],
   "metadata": {
    "collapsed": false
   }
  },
  {
   "cell_type": "code",
   "execution_count": null,
   "outputs": [],
   "source": [
    "from scipy import optimize\n",
    "\n",
    "# READ: https://docs.scipy.org/doc/scipy/reference/generated/scipy.optimize.curve_fit.html\n",
    "\n",
    "def get_motor_power(speeds, *args):  # Helper function for curve fitting\n",
    "    predicted_motor_energy = motor_model.calculate_energy_in(required_speed_kmh=speeds, gradients=gradients, wind_speeds=wind_speeds, tick=tick, coefficients=args)\n",
    "\n",
    "    return predicted_motor_energy / tick  # Convert from J to W by dividing by time\n",
    "\n",
    "guess_coefficients = [1.0, 1.0]  # [0]: acceleration scaling factor, [1]: pre-efficiency power scaling factor\n",
    "opt, var = optimize.curve_fit(get_motor_power, speed_kmh, motor_power, [1.0, 1.0])\n",
    "\n",
    "print(f\"Acceleration scaling factor: {opt[0]}\")\n",
    "print(f\"Pre-Efficiency Power Scaling Factor: {opt[1]}\")"
   ],
   "metadata": {
    "collapsed": false
   }
  },
  {
   "cell_type": "markdown",
   "source": [
    "We used `scipy.curve_fit` to fit two coefficients which scale variables inside of our energy calculation, in order to get the result of that calculation to fit the data we see. Now, let's plot the result with the optimized coefficients that got spit out."
   ],
   "metadata": {
    "collapsed": false
   }
  },
  {
   "cell_type": "code",
   "execution_count": null,
   "outputs": [],
   "source": [
    "optimized_motor_power = motor_power.promote(get_motor_power(speed_kmh, 2, 7.124))\n",
    "optimized_motor_power.plot()"
   ],
   "metadata": {
    "collapsed": false
   }
  },
  {
   "cell_type": "code",
   "execution_count": null,
   "outputs": [],
   "source": [
    "import matplotlib.pyplot as plt\n",
    "\n",
    "fig, ax = plt.subplots()\n",
    "ax.plot(optimized_motor_power.x_axis, optimized_motor_power, label=\"Predicted Motor Power\")\n",
    "ax.plot(motor_power.x_axis, motor_power, label=\"Experimental Motor Power\")\n",
    "ax.set_ylim([0, 1.25 * max(max(optimized_motor_power), max(motor_power))])\n",
    "\n",
    "plt.legend()\n",
    "plt.show()"
   ],
   "metadata": {
    "collapsed": false
   }
  },
  {
   "cell_type": "code",
   "execution_count": null,
   "outputs": [],
   "source": [
    "print(f\"Drawn Energy, actual: {np.trapz(motor_power, motor_power.x_axis)}\")\n",
    "print(f\"Drawn Energy, predicted: {np.trapz(optimized_motor_power, optimized_motor_power.x_axis)}\")"
   ],
   "metadata": {
    "collapsed": false
   }
  }
 ],
 "metadata": {
  "kernelspec": {
   "display_name": "Python 3",
   "language": "python",
   "name": "python3"
  },
  "language_info": {
   "codemirror_mode": {
    "name": "ipython",
    "version": 2
   },
   "file_extension": ".py",
   "mimetype": "text/x-python",
   "name": "python",
   "nbconvert_exporter": "python",
   "pygments_lexer": "ipython2",
   "version": "2.7.6"
  }
 },
 "nbformat": 4,
 "nbformat_minor": 0
}
