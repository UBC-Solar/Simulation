{
  "cells": [
    {
      "cell_type": "code",
      "execution_count": 1,
      "metadata": {
        "colab": {
          "base_uri": "https://localhost:8080/"
        },
        "id": "19WDEDBwbw6K",
        "outputId": "9e5a78ae-a085-4186-9f23-c67fffcbdf5b"
      },
      "outputs": [
        {
          "name": "stdout",
          "output_type": "stream",
          "text": [
            "Requirement already satisfied: haversine in c:\\users\\jason liang\\appdata\\local\\programs\\python\\python39\\lib\\site-packages (2.5.1)\n",
            "Note: you may need to restart the kernel to use updated packages.\n"
          ]
        },
        {
          "name": "stderr",
          "output_type": "stream",
          "text": [
            "WARNING: You are using pip version 21.2.4; however, version 21.3.1 is available.\n",
            "You should consider upgrading via the 'C:\\Users\\Jason Liang\\AppData\\Local\\Programs\\Python\\Python39\\python.exe -m pip install --upgrade pip' command.\n"
          ]
        }
      ],
      "source": [
        "%pip install haversine"
      ]
    },
    {
      "cell_type": "markdown",
      "metadata": {
        "id": "onoC3viuZBM9"
      },
      "source": [
        "## RoadMap:\n",
        "\n",
        "1. Determine how to calculate distances between two coordinates given their longitude and latitude.\n",
        "\n",
        "    The answer to this is the Haversine formula, which has luckily been turned into a Python library.\n",
        "2. Expand this to work on a full array of coordinates.\n",
        "\n",
        "    This requires \"pairwise\" iteration. Pairwise iteration example on a string \"ABCDEF\" -> AB, BC, CD, DE, DF. Thus, we use pairwise iteration and apply Haversine to form an array that contains the distances between coordinates.\n",
        "\n",
        "3. Simplify the problem and work with smaller examples that don't have us ending up between points. \n",
        "\n",
        "    We must be able to identify the coordinates in this simple case before worrying about what happens when we end up between points. Goal: Construct a coordinate-by-time C in this simple case.\n",
        "\n",
        "4. Add support to work with \"fractional points\".\n",
        "\n",
        "    This refers to finding the difference between points and multiplying by some ratio. This ratio will be the distance traveled between points to the total distance between points. This also includes knowing how to keep a working index in the distances array given that it's entirely possible that there are never nice integer indexes.\n",
        "\n",
        "5. Add support to first find checkpoints and then identify at what times we will reach them.\n",
        "\n",
        "6. Determine a correct way to insert 45-minute intervals of 0's in the speed array and theoretical distance array as the algorithm is running! This way, you don't have to keep redoing computations that you already did for the parts of the array that work."
      ]
    },
    {
      "cell_type": "code",
      "execution_count": 2,
      "metadata": {
        "id": "COuqxY5UbEIU"
      },
      "outputs": [],
      "source": [
        "import numpy as np\n",
        "import itertools as it \n",
        "from math import hypot\n",
        "from haversine import haversine\n",
        "from matplotlib import pyplot as plt"
      ]
    },
    {
      "cell_type": "markdown",
      "metadata": {
        "id": "PFS0wJplKbUl"
      },
      "source": [
        "# Step 1\n",
        "Determine how to calculate distances between two coordinates given their longitude and latitude.\n",
        "\n",
        "We're working with Euclidean `(straight-line)` distances for now and using paths defined with Cartesian `(x,y)` coordinates.\n",
        "\n",
        "We can easily replace this with Haversine `(great-circle)` distances in the future. Euclidean distances just make it easier to reason about. "
      ]
    },
    {
      "cell_type": "code",
      "execution_count": 3,
      "metadata": {
        "id": "6o1YETU7bKUE"
      },
      "outputs": [],
      "source": [
        "def calculate_distance(p1,p2, print=True):\n",
        "    \"\"\"Calculate Euclidean distance between two points.\"\"\"\n",
        "    x1,y1 = p1\n",
        "    x2,y2 = p2\n",
        "    if print:\n",
        "      print(f\"{p1},{p2}\") \n",
        "    return round(hypot(x2 - x1, y2 - y1), 2)\n",
        "\n",
        "# Plot Graph helper method \n",
        "def simple_plot_graph(data, title, visible=True):\n",
        "    \"\"\"\n",
        "\n",
        "    Args:\n",
        "        visible: A control flag specifying if the plot should be shown\n",
        "        data: A NumPy[n] array of data to plot\n",
        "        title: The graph title\n",
        "\n",
        "    Result: Displays a graph of the data using Matplotlib\n",
        "\n",
        "    \"\"\"\n",
        "    fig, ax = plt.subplots()\n",
        "    x = np.arange(0, len(data))\n",
        "    ax.plot(x, data)\n",
        "    plt.title(title)\n",
        "    if visible:\n",
        "        plt.show()"
      ]
    },
    {
      "cell_type": "code",
      "execution_count": 4,
      "metadata": {
        "colab": {
          "base_uri": "https://localhost:8080/"
        },
        "id": "cVVf2dj3J9kC",
        "outputId": "a27d096e-96b7-4f3f-9753-cc27e300246f"
      },
      "outputs": [
        {
          "name": "stdout",
          "output_type": "stream",
          "text": [
            "Distance between [0, 0] and [1, 0] = 1.0\n",
            "Distance between [1, 0] and [1, 1] = 1.0\n",
            "Distance between [0, 0] and [1, 1] = 1.41\n"
          ]
        }
      ],
      "source": [
        "# Step 1 Test:\n",
        "pt0 = [0, 0]\n",
        "pt1 = [1, 0]\n",
        "pt2 = [1, 1]\n",
        "# These coordinate points, they produce distances with decimals, so need to\n",
        "# implement calculations that will work with decimals\n",
        "\n",
        "step1_test_print = False\n",
        "\n",
        "print(f\"Distance between {pt0} and {pt1} = {calculate_distance(pt0, pt1, step1_test_print)}\")\n",
        "print(f\"Distance between {pt1} and {pt2} = {calculate_distance(pt1, pt2, step1_test_print)}\")\n",
        "print(f\"Distance between {pt0} and {pt2} = {calculate_distance(pt0, pt2, step1_test_print)}\")"
      ]
    },
    {
      "cell_type": "code",
      "execution_count": 5,
      "metadata": {
        "colab": {
          "base_uri": "https://localhost:8080/",
          "height": 281
        },
        "id": "rwUSSs9BnsTv",
        "outputId": "9c5fdb94-2440-41e8-e139-23eab4a0b7bb"
      },
      "outputs": [
        {
          "data": {
            "image/png": "[encoded data removed]",
            "text/plain": [
              "<Figure size 432x288 with 1 Axes>"
            ]
          },
          "metadata": {
            "needs_background": "light"
          },
          "output_type": "display_data"
        }
      ],
      "source": [
        "test_arr = [calculate_distance(pt0, pt1, step1_test_print), calculate_distance(pt1, pt2, step1_test_print), calculate_distance(pt0, pt2, step1_test_print)]\n",
        "\n",
        "simple_plot_graph(test_arr, \"Simple Plot\", True)"
      ]
    },
    {
      "cell_type": "markdown",
      "metadata": {
        "id": "vyXY2HnSLEZo"
      },
      "source": [
        "# Step 2: Pairwise Iteration\n",
        "\n",
        "To calculate the distances between a full array of coordinates, we need pairwise iteration.\n",
        "\n",
        "Pairwise Iteration Example on a String \"ABCDEF\" -> AB, BC, CD, DE, EF.\n",
        "\n",
        "Luckily, [itertools](https://docs.python.org/3/library/itertools.html#itertools.pairwise) exists and provides a receipe on how to do pairwise iteration."
      ]
    },
    {
      "cell_type": "code",
      "execution_count": 7,
      "metadata": {
        "id": "VVxrCUaXbYib"
      },
      "outputs": [],
      "source": [
        "example_path = np.array([[0,0], [0,1], [0,2], [0,3], [0,4]])"
      ]
    },
    {
      "cell_type": "code",
      "execution_count": 6,
      "metadata": {
        "id": "iiVQNJr7ND5d"
      },
      "outputs": [],
      "source": [
        "# Itertools receipe for pairwise iteration\n",
        "def pairwise(iterable):\n",
        "  a, b = it.tee(iterable)\n",
        "  next(b, None)\n",
        "  return zip(a, b)"
      ]
    },
    {
      "cell_type": "code",
      "execution_count": 7,
      "metadata": {
        "id": "VBXlQlLTPYaW"
      },
      "outputs": [],
      "source": [
        "# for my understanding of what the pairwise function does. And from printing the results of pariwise, it pairs up the points so then you can calculate the distance between the points\n",
        "def printpair(path):\n",
        "  for p1, p2 in pairwise(path):\n",
        "    print(p1, p2)\n",
        "\n",
        "# Pairwise iteration and prints out the values to see what they are\n",
        "def pairwiseAndPrint(iterable, show=True):\n",
        "  a, b = it.tee(iterable)\n",
        "  next(b, None)\n",
        "  if show:\n",
        "    for p1, p2 in zip(a, b):\n",
        "      print(f\"{p1},{p2}\")\n",
        "  return zip(a, b)\n",
        "\n",
        "#pairwiseAndPrint(example_path, False)"
      ]
    },
    {
      "cell_type": "markdown",
      "metadata": {
        "id": "B8_A-TK9PuG5"
      },
      "source": [
        "We'll combine this pairwise iteration with Python list comprehension to allow us to calculate distances between coordinates for arrays."
      ]
    },
    {
      "cell_type": "code",
      "execution_count": 8,
      "metadata": {
        "id": "xXpnKehsQDzN"
      },
      "outputs": [],
      "source": [
        "def calculate_array_distances(path):\n",
        "  return np.array([calculate_distance(p1, p2, False) for p1, p2 in pairwise(path)])"
      ]
    },
    {
      "cell_type": "code",
      "execution_count": 11,
      "metadata": {
        "colab": {
          "base_uri": "https://localhost:8080/"
        },
        "id": "zuztUdGcdFZX",
        "outputId": "d229a906-a2d6-43df-c29c-53c912a8b43b"
      },
      "outputs": [
        {
          "name": "stdout",
          "output_type": "stream",
          "text": [
            "[[0 0]\n",
            " [0 1]\n",
            " [0 2]\n",
            " [0 3]\n",
            " [0 4]], \n",
            " distances: [1. 1. 1. 1.]\n"
          ]
        }
      ],
      "source": [
        "# We use list comprehension for this. This is essentially calling the function provided for each pair of arguments we get out of the pairwise iteration \n",
        "example_path_distances = calculate_array_distances(example_path)\n",
        "print(f\"{example_path}, \\n distances: {example_path_distances}\")"
      ]
    },
    {
      "cell_type": "markdown",
      "metadata": {
        "id": "22HaMj_yOEAF"
      },
      "source": [
        "# Step 3: Simple Example -> Finding Coordinates by Time\n",
        "\n",
        "We'll consider our distance per second array to be something simple like `[1, 1, 1, 1]`. This means for each of the four seconds, we travel 1 unit in that second."
      ]
    },
    {
      "cell_type": "code",
      "execution_count": 12,
      "metadata": {
        "id": "5KJcr5Mcea4a"
      },
      "outputs": [],
      "source": [
        "# distance_per_second\n",
        "step3_distance_per_second = np.array([1,1,1,1])"
      ]
    },
    {
      "cell_type": "markdown",
      "metadata": {
        "id": "gOpS19cZPHtr"
      },
      "source": [
        "We'll also define our path to be 3 steps along the y-axis."
      ]
    },
    {
      "cell_type": "code",
      "execution_count": 13,
      "metadata": {
        "id": "vWICmlmhO8Al"
      },
      "outputs": [],
      "source": [
        "# path\n",
        "step3_path = np.array([[0,0], [0,1], [0,2], [0,3]])"
      ]
    },
    {
      "cell_type": "markdown",
      "metadata": {
        "id": "4QtQfh1aPbdY"
      },
      "source": [
        "Use Step 2's work to find distance between path."
      ]
    },
    {
      "cell_type": "code",
      "execution_count": 14,
      "metadata": {
        "colab": {
          "base_uri": "https://localhost:8080/"
        },
        "id": "mFl_gpPpPamN",
        "outputId": "1565a2d4-4923-4f78-f865-f74d5376b621"
      },
      "outputs": [
        {
          "name": "stdout",
          "output_type": "stream",
          "text": [
            "[[0 0]\n",
            " [0 1]\n",
            " [0 2]\n",
            " [0 3]] \n",
            " distances: [1. 1. 1.]\n"
          ]
        }
      ],
      "source": [
        "# path_distances\n",
        "step3_path_distances = calculate_array_distances(step3_path)\n",
        "print(f\"{step3_path} \\n distances: {step3_path_distances}\")"
      ]
    },
    {
      "cell_type": "code",
      "execution_count": null,
      "metadata": {
        "id": "IAoaLSbVo3t9"
      },
      "outputs": [],
      "source": [
        "def step3_match_coords(path, path_distances, distance_per_second):\n",
        "  # path: List of all the coordinates of the path\n",
        "  # path_distances: List of all the distances between paths\n",
        "  # distance_per_second: List of all the speeds per second \n",
        "\n",
        "  path_distance_index = 0\n",
        "\n",
        "  coordinate_by_time = [] # coordinates by seconds\n",
        "\n",
        "  # Use Enumeration, which allows us to use both the iteration number and value while iterating\n",
        "  # Ex: Iteration 0: i = 0, distance\n",
        "  # for i, value in enumerate(array) i = 0, 1, 2, value = array[0], array[1]...\n",
        "\n",
        "  for i, distance in enumerate(distance_per_second):\n",
        "    print(f\"Travelled {distance} m at second {i}\")\n",
        "    \n",
        "    # If I travelled a distance equal to the next point, I'll add it to the list.\n",
        "    if path_distances[path_distance_index] == dist:\n",
        "      # Then, I'll add it to the list of coordinates\n",
        "      coordinate_by_time.append(path[path_distance_index])\n",
        "      # Increment the path distance to show I reached that coordinate and ready\n",
        "      # to analyze the next segment\n",
        "      path_distance_index += 1\n",
        "\n",
        "      # Exit if path_distance_index goes out of bounds. Means we reached end of path.\n",
        "      if(path_distance_index >= len(path_distances)): \n",
        "        return np.array(coordinate_by_time)\n",
        "  \n",
        "  return np.array(coordinate_by_time) "
      ]
    },
    {
      "cell_type": "code",
      "execution_count": null,
      "metadata": {
        "colab": {
          "base_uri": "https://localhost:8080/"
        },
        "id": "gJA_ytPzr8K1",
        "outputId": "9a8bb58b-204b-42ff-89c4-83c0dfa2cd9a"
      },
      "outputs": [
        {
          "name": "stdout",
          "output_type": "stream",
          "text": [
            "Travelled 1 m at second 0\n",
            "Travelled 1 m at second 1\n",
            "Travelled 1 m at second 2\n",
            "[[0 0]\n",
            " [0 1]\n",
            " [0 2]]\n"
          ]
        }
      ],
      "source": [
        "step3_coord_by_time = step3_match_coords(path=step3_path, path_distances=step3_path_distances, distance_per_second=step3_distance_per_second)\n",
        "\n",
        "print(step3_coord_by_time)"
      ]
    },
    {
      "cell_type": "markdown",
      "metadata": {},
      "source": [
        "# Step 4: Less Simple Example -> Finding Coordinates by time with more complex speed and distance arrays\n",
        "\n",
        "Take these speed, distance, and path arrays:  \n",
        "speed = [1, 2, 1, 1]  \n",
        "distance = [2, 1, 2, 3] (distance between points)  \n",
        "path = [[0, 0], [0, 2], [0, 3], [0, 5], [0, 8]]  \n",
        "\n",
        "The result when calculating the coordinate by time should look something like this:\n",
        "\n",
        "coordinate_per_second = [[0, 1], [0, 3], [0, 4], [0, 5]]\n",
        "\n",
        "Index to path:      i = 3      (names in function: path_index)  \n",
        "Index to distance:  j = 3      (names in function: path_distance_index)  \n",
        "Note: Not 100% sure if these two indexes are always the same or different"
      ]
    },
    {
      "cell_type": "code",
      "execution_count": 10,
      "metadata": {},
      "outputs": [],
      "source": [
        "step4_speed = np.array([1, 2, 1, 1])\n",
        "step4_path = np.array([[0, 0], [0, 2], [0, 3], [0, 5], [0, 8]])\n",
        "step4_path_distances = calculate_array_distances(step4_path)\n",
        "\n",
        "#print(step4_path_distances)"
      ]
    },
    {
      "cell_type": "code",
      "execution_count": 15,
      "metadata": {},
      "outputs": [],
      "source": [
        "def step4_match_coords(path, distance, speed):\n",
        "  # path: List of all the coordinates of the path\n",
        "  # path_distances: List of all the distances between paths\n",
        "  # distance_per_second: List of all the speeds per second\n",
        "\n",
        "  path_index          = 0\n",
        "  path_distance_index = 0\n",
        "\n",
        "  temp_distance_travelled = 0\n",
        "\n",
        "  coords_by_seconds = []\n",
        "\n",
        "  for i, distance in enumerate(speed):\n",
        "    \"\"\"\n",
        "    3 cases regarding the speed travelled:\n",
        "    First: speed < distance[path_distance_index]\n",
        "      We keep a result of how far we have travelled, and we calculate the fractional coordinate\n",
        "    Second: speed = distance[path_distance_index]\n",
        "      We plot the next point in coordinate per second, increment path_distance_index\n",
        "    Third: speed > distance[path_distance_index]\n",
        "      Decrement the speed distance, increment path_distance_index\n",
        "      getting the resulting speed to calculate the fractional cooridnate point.\n",
        "        # what happens if we pass our checkpoint in this case? Doing a check with helper function everytime we increment path_distance_index\n",
        "    \"\"\"\n",
        "  "
      ]
    }
  ],
  "metadata": {
    "colab": {
      "collapsed_sections": [],
      "name": "coord_by_time.ipynb",
      "provenance": []
    },
    "kernelspec": {
      "display_name": "Python 3",
      "name": "python3"
    },
    "language_info": {
      "codemirror_mode": {
        "name": "ipython",
        "version": 3
      },
      "file_extension": ".py",
      "mimetype": "text/x-python",
      "name": "python",
      "nbconvert_exporter": "python",
      "pygments_lexer": "ipython3",
      "version": "3.9.7"
    }
  },
  "nbformat": 4,
  "nbformat_minor": 0
}
