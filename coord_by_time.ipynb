{
  "cells": [
    {
      "cell_type": "code",
      "execution_count": 1,
      "metadata": {
        "colab": {
          "base_uri": "https://localhost:8080/"
        },
        "id": "19WDEDBwbw6K",
        "outputId": "9e5a78ae-a085-4186-9f23-c67fffcbdf5b"
      },
      "outputs": [
        {
          "name": "stdout",
          "output_type": "stream",
          "text": [
            "Requirement already satisfied: haversine in c:\\users\\raymo\\anaconda3\\lib\\site-packages (2.5.1)\n",
            "Note: you may need to restart the kernel to use updated packages.\n"
          ]
        }
      ],
      "source": [
        "%pip install haversine"
      ]
    },
    {
      "cell_type": "markdown",
      "metadata": {
        "id": "onoC3viuZBM9"
      },
      "source": [
        "## RoadMap:\n",
        "\n",
        "1. Determine how to calculate distances between two coordinates given their longitude and latitude.\n",
        "\n",
        "    The answer to this is the Haversine formula, which has luckily been turned into a Python library.\n",
        "2. Expand this to work on a full array of coordinates.\n",
        "\n",
        "    This requires \"pairwise\" iteration. Pairwise iteration example on a string \"ABCDEF\" -> AB, BC, CD, DE, DF. Thus, we use pairwise iteration and apply Haversine to form an array that contains the distances between coordinates.\n",
        "\n",
        "3. Simplify the problem and work with smaller examples that don't have us ending up between points. \n",
        "\n",
        "    We must be able to identify the coordinates in this simple case before worrying about what happens when we end up between points. Goal: Construct a coordinate-by-time C in this simple case.\n",
        "\n",
        "4. Add support to work with \"fractional points\".\n",
        "\n",
        "    This refers to finding the difference between points and multiplying by some ratio. This ratio will be the distance traveled between points to the total distance between points. This also includes knowing how to keep a working index in the distances array given that it's entirely possible that there are never nice integer indexes.\n",
        "\n",
        "5. Add support to first find checkpoints and then identify at what times we will reach them.\n",
        "\n",
        "6. Determine a correct way to insert 45-minute intervals of 0's in the speed array and theoretical distance array as the algorithm is running! This way, you don't have to keep redoing computations that you already did for the parts of the array that work."
      ]
    },
    {
      "cell_type": "code",
      "execution_count": 2,
      "metadata": {
        "id": "COuqxY5UbEIU"
      },
      "outputs": [],
      "source": [
        "import numpy as np\n",
        "import itertools as it \n",
        "from math import hypot, radians\n",
        "from haversine import haversine\n",
        "from matplotlib import pyplot as plt\n",
        "from sklearn.neighbors import BallTree"
      ]
    },
    {
      "cell_type": "markdown",
      "metadata": {
        "id": "PFS0wJplKbUl"
      },
      "source": [
        "# Step 1\n",
        "Determine how to calculate distances between two coordinates given their longitude and latitude.\n",
        "\n",
        "We're working with Euclidean `(straight-line)` distances for now and using paths defined with Cartesian `(x,y)` coordinates.\n",
        "\n",
        "We can easily replace this with Haversine `(great-circle)` distances in the future. Euclidean distances just make it easier to reason about. "
      ]
    },
    {
      "cell_type": "code",
      "execution_count": 3,
      "metadata": {
        "id": "6o1YETU7bKUE"
      },
      "outputs": [],
      "source": [
        "def calculate_distance(p1,p2, print=True):\n",
        "    \"\"\"Calculate Euclidean distance between two points.\"\"\"\n",
        "    x1,y1 = p1\n",
        "    x2,y2 = p2\n",
        "    if print:\n",
        "      print(f\"{p1},{p2}\") \n",
        "    return round(hypot(x2 - x1, y2 - y1), 2)\n",
        "\n",
        "# Plot Graph helper method \n",
        "def simple_plot_graph(data, title, visible=True):\n",
        "    \"\"\"\n",
        "\n",
        "    Args:\n",
        "        visible: A control flag specifying if the plot should be shown\n",
        "        data: A NumPy[n] array of data to plot\n",
        "        title: The graph title\n",
        "\n",
        "    Result: Displays a graph of the data using Matplotlib\n",
        "\n",
        "    \"\"\"\n",
        "    fig, ax = plt.subplots()\n",
        "    x = np.arange(0, len(data))\n",
        "    ax.plot(x, data)\n",
        "    plt.title(title)\n",
        "    if visible:\n",
        "        plt.show()"
      ]
    },
    {
      "cell_type": "code",
      "execution_count": 4,
      "metadata": {
        "colab": {
          "base_uri": "https://localhost:8080/"
        },
        "id": "cVVf2dj3J9kC",
        "outputId": "a27d096e-96b7-4f3f-9753-cc27e300246f"
      },
      "outputs": [
        {
          "name": "stdout",
          "output_type": "stream",
          "text": [
            "Distance between [0, 0] and [1, 0] = 1.0\n",
            "Distance between [1, 0] and [1, 1] = 1.0\n",
            "Distance between [0, 0] and [1, 1] = 1.41\n"
          ]
        }
      ],
      "source": [
        "# Step 1 Test:\n",
        "pt0 = [0, 0]\n",
        "pt1 = [1, 0]\n",
        "pt2 = [1, 1]\n",
        "# These coordinate points, they produce distances with decimals, so need to\n",
        "# implement calculations that will work with decimals\n",
        "\n",
        "step1_test_print = False\n",
        "\n",
        "print(f\"Distance between {pt0} and {pt1} = {calculate_distance(pt0, pt1, step1_test_print)}\")\n",
        "print(f\"Distance between {pt1} and {pt2} = {calculate_distance(pt1, pt2, step1_test_print)}\")\n",
        "print(f\"Distance between {pt0} and {pt2} = {calculate_distance(pt0, pt2, step1_test_print)}\")"
      ]
    },
    {
      "cell_type": "code",
      "execution_count": 5,
      "metadata": {
        "colab": {
          "base_uri": "https://localhost:8080/",
          "height": 281
        },
        "id": "rwUSSs9BnsTv",
        "outputId": "9c5fdb94-2440-41e8-e139-23eab4a0b7bb"
      },
      "outputs": [
        {
          "data": {
            "image/png": "[encoded data removed]",
            "text/plain": [
              "<Figure size 432x288 with 1 Axes>"
            ]
          },
          "metadata": {
            "needs_background": "light"
          },
          "output_type": "display_data"
        }
      ],
      "source": [
        "test_arr = [calculate_distance(pt0, pt1, step1_test_print), calculate_distance(pt1, pt2, step1_test_print), calculate_distance(pt0, pt2, step1_test_print)]\n",
        "\n",
        "simple_plot_graph(test_arr, \"Simple Plot\", True)"
      ]
    },
    {
      "cell_type": "markdown",
      "metadata": {
        "id": "vyXY2HnSLEZo"
      },
      "source": [
        "# Step 2: Pairwise Iteration\n",
        "\n",
        "To calculate the distances between a full array of coordinates, we need pairwise iteration.\n",
        "\n",
        "Pairwise Iteration Example on a String \"ABCDEF\" -> AB, BC, CD, DE, EF.\n",
        "\n",
        "Luckily, [itertools](https://docs.python.org/3/library/itertools.html#itertools.pairwise) exists and provides a receipe on how to do pairwise iteration."
      ]
    },
    {
      "cell_type": "code",
      "execution_count": 6,
      "metadata": {
        "id": "VVxrCUaXbYib"
      },
      "outputs": [],
      "source": [
        "example_path = np.array([[0,0], [0,1], [0,2], [0,3], [0,4]])"
      ]
    },
    {
      "cell_type": "code",
      "execution_count": 7,
      "metadata": {
        "id": "iiVQNJr7ND5d"
      },
      "outputs": [],
      "source": [
        "# Itertools receipe for pairwise iteration\n",
        "def pairwise(iterable):\n",
        "  a, b = it.tee(iterable)\n",
        "  next(b, None)\n",
        "  return zip(a, b)"
      ]
    },
    {
      "cell_type": "code",
      "execution_count": 8,
      "metadata": {
        "id": "VBXlQlLTPYaW"
      },
      "outputs": [],
      "source": [
        "# for my understanding of what the pairwise function does. And from printing the results of pariwise, it pairs up the points so then you can calculate the distance between the points\n",
        "def printpair(path):\n",
        "  for p1, p2 in pairwise(path):\n",
        "    print(p1, p2)\n",
        "\n",
        "# Pairwise iteration and prints out the values to see what they are\n",
        "def pairwiseAndPrint(iterable, show=True):\n",
        "  a, b = it.tee(iterable)\n",
        "  next(b, None)\n",
        "  if show:\n",
        "    for p1, p2 in zip(a, b):\n",
        "      print(f\"{p1},{p2}\")\n",
        "  return zip(a, b)\n",
        "\n",
        "#pairwiseAndPrint(example_path, False)"
      ]
    },
    {
      "cell_type": "markdown",
      "metadata": {
        "id": "B8_A-TK9PuG5"
      },
      "source": [
        "We'll combine this pairwise iteration with Python list comprehension to allow us to calculate distances between coordinates for arrays."
      ]
    },
    {
      "cell_type": "code",
      "execution_count": 9,
      "metadata": {
        "id": "xXpnKehsQDzN"
      },
      "outputs": [],
      "source": [
        "def calculate_array_distances(path):\n",
        "  return np.array([calculate_distance(p1, p2, False) for p1, p2 in pairwise(path)])"
      ]
    },
    {
      "cell_type": "code",
      "execution_count": 10,
      "metadata": {
        "colab": {
          "base_uri": "https://localhost:8080/"
        },
        "id": "zuztUdGcdFZX",
        "outputId": "d229a906-a2d6-43df-c29c-53c912a8b43b"
      },
      "outputs": [
        {
          "name": "stdout",
          "output_type": "stream",
          "text": [
            "[[0 0]\n",
            " [0 1]\n",
            " [0 2]\n",
            " [0 3]\n",
            " [0 4]], \n",
            " distances: [1. 1. 1. 1.]\n"
          ]
        }
      ],
      "source": [
        "# We use list comprehension for this. This is essentially calling the function provided for each pair of arguments we get out of the pairwise iteration \n",
        "example_path_distances = calculate_array_distances(example_path)\n",
        "print(f\"{example_path}, \\n distances: {example_path_distances}\")"
      ]
    },
    {
      "cell_type": "markdown",
      "metadata": {
        "id": "22HaMj_yOEAF"
      },
      "source": [
        "# Step 3: Simple Example -> Finding Coordinates by Time\n",
        "\n",
        "We'll consider our distance per second array to be something simple like `[1, 1, 1, 1]`. This means for each of the four seconds, we travel 1 unit in that second."
      ]
    },
    {
      "cell_type": "code",
      "execution_count": 11,
      "metadata": {
        "id": "5KJcr5Mcea4a"
      },
      "outputs": [],
      "source": [
        "# distance_per_second\n",
        "step3_distance_per_second = np.array([1,1,1,1])"
      ]
    },
    {
      "cell_type": "markdown",
      "metadata": {
        "id": "gOpS19cZPHtr"
      },
      "source": [
        "We'll also define our path to be 3 steps along the y-axis."
      ]
    },
    {
      "cell_type": "code",
      "execution_count": 12,
      "metadata": {
        "id": "vWICmlmhO8Al"
      },
      "outputs": [],
      "source": [
        "# path\n",
        "step3_path = np.array([[0,0], [0,1], [0,2], [0,3]])"
      ]
    },
    {
      "cell_type": "markdown",
      "metadata": {
        "id": "4QtQfh1aPbdY"
      },
      "source": [
        "Use Step 2's work to find distance between path."
      ]
    },
    {
      "cell_type": "code",
      "execution_count": 13,
      "metadata": {
        "colab": {
          "base_uri": "https://localhost:8080/"
        },
        "id": "mFl_gpPpPamN",
        "outputId": "1565a2d4-4923-4f78-f865-f74d5376b621"
      },
      "outputs": [
        {
          "name": "stdout",
          "output_type": "stream",
          "text": [
            "[[0 0]\n",
            " [0 1]\n",
            " [0 2]\n",
            " [0 3]] \n",
            " distances: [1. 1. 1.]\n"
          ]
        }
      ],
      "source": [
        "# path_distances\n",
        "step3_path_distances = calculate_array_distances(step3_path)\n",
        "print(f\"{step3_path} \\n distances: {step3_path_distances}\")"
      ]
    },
    {
      "cell_type": "code",
      "execution_count": 14,
      "metadata": {
        "id": "IAoaLSbVo3t9"
      },
      "outputs": [],
      "source": [
        "def step3_match_coords(path, path_distances, distance_per_second):\n",
        "  # path: List of all the coordinates of the path\n",
        "  # path_distances: List of all the distances between paths\n",
        "  # distance_per_second: List of all the speeds per second \n",
        "\n",
        "  path_distance_index = 0\n",
        "\n",
        "  coordinate_by_time = [] # coordinates by seconds\n",
        "\n",
        "  # Use Enumeration, which allows us to use both the iteration number and value while iterating\n",
        "  # Ex: Iteration 0: i = 0, distance\n",
        "  # for i, value in enumerate(array) i = 0, 1, 2, value = array[0], array[1]...\n",
        "\n",
        "  for i, distance in enumerate(distance_per_second):\n",
        "    print(f\"Travelled {distance} m at second {i}\")\n",
        "    \n",
        "    # If I travelled a distance equal to the next point, I'll add it to the list.\n",
        "    if path_distances[path_distance_index] == distance:\n",
        "      # Then, I'll add it to the list of coordinates\n",
        "      coordinate_by_time.append(path[path_distance_index])\n",
        "      # Increment the path distance to show I reached that coordinate and ready\n",
        "      # to analyze the next segment\n",
        "      path_distance_index += 1\n",
        "\n",
        "      # Exit if path_distance_index goes out of bounds. Means we reached end of path.\n",
        "      if(path_distance_index >= len(path_distances)): \n",
        "        return np.array(coordinate_by_time)\n",
        "  \n",
        "  return np.array(coordinate_by_time) "
      ]
    },
    {
      "cell_type": "code",
      "execution_count": 15,
      "metadata": {
        "colab": {
          "base_uri": "https://localhost:8080/"
        },
        "id": "gJA_ytPzr8K1",
        "outputId": "9a8bb58b-204b-42ff-89c4-83c0dfa2cd9a"
      },
      "outputs": [
        {
          "name": "stdout",
          "output_type": "stream",
          "text": [
            "Travelled 1 m at second 0\n",
            "Travelled 1 m at second 1\n",
            "Travelled 1 m at second 2\n",
            "[[0 0]\n",
            " [0 1]\n",
            " [0 2]]\n"
          ]
        }
      ],
      "source": [
        "step3_coord_by_time = step3_match_coords(path=step3_path, path_distances=step3_path_distances, distance_per_second=step3_distance_per_second)\n",
        "\n",
        "print(step3_coord_by_time)"
      ]
    },
    {
      "cell_type": "markdown",
      "metadata": {},
      "source": [
        "# Step 4: Less Simple Example -> Finding Coordinates by time with more complex speed and distance arrays\n",
        "\n",
        "Take these speed, distance, and path arrays:  \n",
        "speed = [1, 2, 1, 1]  \n",
        "distance = [2, 1, 2, 3] (distance between points)  \n",
        "path = [[0, 0], [0, 2], [0, 3], [0, 5], [0, 8]]  \n",
        "\n",
        "The result when calculating the coordinate by time should look something like this:\n",
        "\n",
        "coordinate_per_second = [[0, 1], [0, 3], [0, 4], [0, 5]]\n",
        "\n",
        "Index to path:      i = 3      (names in function: path_index)  \n",
        "Index to distance:  j = 3      (names in function: path_distance_index)  \n",
        "Note: Not 100% sure if these two indexes are always the same or different"
      ]
    },
    {
      "cell_type": "code",
      "execution_count": 16,
      "metadata": {},
      "outputs": [],
      "source": [
        "# step4_speed = np.array([1, 2, 1, 1])\n",
        "step4_speed = np.array([4, 1, 1, 4, 1])\n",
        "step4_path = np.array([[0, 0], [0, 2], [0, 3], [0, 5], [0, 8]])\n",
        "\n",
        "step4_path_distances = calculate_array_distances(step4_path)\n",
        "\n",
        "#print(step4_path_distances)"
      ]
    },
    {
      "cell_type": "code",
      "execution_count": 17,
      "metadata": {},
      "outputs": [],
      "source": [
        "def step4_match_coords(path, distances, speeds):\n",
        "  # path: List of all the coordinates of the path\n",
        "  # path_distances: List of all the distances between paths\n",
        "  # distance_per_second: List of all the speeds per second\n",
        "  # delta: margin of error used for float calculations, UPDATE AS NEEDED\n",
        "\n",
        "  delta = 0.05\n",
        "\n",
        "  path_index          = 0\n",
        "  path_distance_index = 0\n",
        "\n",
        "  temp_distance_travelled = 0\n",
        "\n",
        "  coords_by_seconds = []\n",
        "\n",
        "  for i, distance in enumerate(speeds):\n",
        "    \"\"\"\n",
        "    3 cases regarding the speed travelled:\n",
        "    First: speed + temp_distance_travelled < distance[path_distance_index]\n",
        "      We keep a result of how far we have travelled, and we calculate the fractional coordinate\n",
        "    Second: speed = distance[path_distance_index]\n",
        "      We plot the next point in coordinate per second, increment path_distance_index\n",
        "    Third: speed + temp_distance_travelled > distance[path_distance_index]\n",
        "      Decrement the speed distance, increment path_distance_index\n",
        "      getting the resulting speed to calculate the fractional cooridnate point.\n",
        "        # what happens if we pass our checkpoint in this case? Doing a check with helper function everytime we increment path_distance_index\n",
        "    \"\"\"\n",
        "\n",
        "    total_distance_travelled = 0\n",
        "\n",
        "    # First check if we can reach beyond the next path coordinates\n",
        "    while (distance + temp_distance_travelled > distances[path_distance_index] + delta):\n",
        "      # Update distance to be remainder of distance we can travel this second\n",
        "      distance = distance + temp_distance_travelled - distances[path_distance_index]\n",
        "      # Add the distance travelled to our count\n",
        "      total_distance_travelled += distances[path_distance_index] - temp_distance_travelled\n",
        "      # Reset the temp_distance_travelled\n",
        "      temp_distance_travelled = 0\n",
        "\n",
        "      # Increment values of path_index and path_distance_index\n",
        "      path_index += 1\n",
        "      path_distance_index += 1\n",
        "\n",
        "      # If we reached the end of the coordinate list, exit\n",
        "      if(path_distance_index >= len(distances)): \n",
        "        print(f\"Travelled {total_distance_travelled} m at second {i}\")\n",
        "        print(f\"New coordinates: {path[path_index]}\")\n",
        "\n",
        "        # First, add the last coordinate (which we must have reached)\n",
        "        coords_by_seconds.append(path[path_index])\n",
        "\n",
        "        return np.array(coords_by_seconds)\n",
        "\n",
        "    # If I can't reach the next coordinate\n",
        "    if (distance + temp_distance_travelled < distances[path_distance_index] - delta):\n",
        "      # Update total distance travelled\n",
        "      total_distance_travelled += distance\n",
        "      print(f\"Travelled {total_distance_travelled} m at second {i}\")\n",
        "\n",
        "      # Add onto the temperary distance between two coordinates\n",
        "      temp_distance_travelled += distance\n",
        "      frac_distance_travelled = temp_distance_travelled / distances[path_distance_index]\n",
        "      dx = path[path_index + 1][0] - path[path_index][0]\n",
        "      dy = path[path_index + 1][1] - path[path_index][1]\n",
        "\n",
        "      # Calculate the new coordinates with the fraction of temporary distance travelled\n",
        "      new_coords = [frac_distance_travelled * dx + path[path_index][0],\n",
        "                    frac_distance_travelled * dy + path[path_index][1]]\n",
        "      coords_by_seconds.append(new_coords)\n",
        "      print(f\"New coordinates: {new_coords}\")\n",
        "\n",
        "    # If I cover just enough distance to reach a new path coordinate\n",
        "    elif (distances[path_distance_index] - delta <= distance + temp_distance_travelled <= distances[path_distance_index] + delta):\n",
        "      # Update total distance travelled\n",
        "      total_distance_travelled += distance\n",
        "      print(f\"Travelled {total_distance_travelled} m at second {i}\")\n",
        "\n",
        "      # Reset our temp_distance_travelled since we reached a new checkpoint\n",
        "      temp_distance_travelled = 0\n",
        "\n",
        "      # Increment our values for the path_index and path_distance_index\n",
        "      path_index += 1\n",
        "      path_distance_index += 1\n",
        "\n",
        "      # Add the checkpoint coordinates to the coords_by_second array\n",
        "      coords_by_seconds.append(path[path_index])\n",
        "      print(f\"New coordinates: {path[path_index]}\")\n",
        "\n",
        "      # If we reached the end of the coordinate list, exit\n",
        "      if(path_distance_index >= len(distances)):\n",
        "        return np.array(coords_by_seconds)\n",
        "\n",
        "  return np.array(coords_by_seconds)\n"
      ]
    },
    {
      "cell_type": "code",
      "execution_count": 18,
      "metadata": {},
      "outputs": [
        {
          "name": "stdout",
          "output_type": "stream",
          "text": [
            "Travelled 4.0 m at second 0\n",
            "New coordinates: [0.0, 4.0]\n",
            "Travelled 1 m at second 1\n",
            "New coordinates: [0 5]\n",
            "Travelled 1 m at second 2\n",
            "New coordinates: [0.0, 6.0]\n",
            "Travelled 2.0 m at second 3\n",
            "New coordinates: [0 8]\n",
            "[[0. 4.]\n",
            " [0. 5.]\n",
            " [0. 6.]\n",
            " [0. 8.]]\n"
          ]
        }
      ],
      "source": [
        "step4_coord_by_times = step4_match_coords(path=step4_path, distances=step4_path_distances, speeds=step4_speed)\n",
        "\n",
        "print(step4_coord_by_times)"
      ]
    },
    {
      "cell_type": "markdown",
      "metadata": {},
      "source": [
        "# Step 5: Less Simple example -> Considering checkpoints and add 0s to arrays\n",
        "\n",
        "Now let's assume we have another input array containing the coordinates of the checkpoints along the path. First, we need to find the indices the checkpoints occur in the path array (and if they even exist in the array). If they don't exist in the array, we need to find the coordinates that are the closest to the checkpoint, and calculate the fractional distance/coordinates.\n",
        "\n",
        "\n",
        "\n",
        "Adding 45 minutes worth of 0s in both speed and path arrays:  \n",
        "\n",
        "If we have speed 4, and next wp at 2, change the speed array from 4 to 2\n",
        "\n"
      ]
    },
    {
      "cell_type": "code",
      "execution_count": 151,
      "metadata": {},
      "outputs": [],
      "source": [
        "step5_speed = np.array([4, 1, 1, 4, 1, 4])\n",
        "step5_path = np.array([[0, 0], [0, 2], [0, 3], [0, 5], [0, 8]])\n",
        "step5_waypoints = np.array([[0,2], [0,4], [0,5]])\n",
        "\n",
        "step5_path_distances = calculate_array_distances(step5_path)\n",
        "\n",
        "#print(step5_path_distances)"
      ]
    },
    {
      "cell_type": "code",
      "execution_count": 174,
      "metadata": {},
      "outputs": [],
      "source": [
        "def step5_match_coords(path, distances, speeds, waypoints, verbose = False):\n",
        "  # First we need to find the closest path coordinates for each waypoint/checkpoint\n",
        "  path_rad = np.array([[radians(p[0]), radians(p[1])] for p in path])\n",
        "  tree = BallTree(path_rad, metric='haversine')\n",
        "  gaps, wp = tree.query([[radians(w[0]), radians(w[1])] for w in waypoints])\n",
        "  # Make sure no waypoint is more than 50 m away from a path coord\n",
        "  assert(max(gaps) <= 50)\n",
        "  print(f\"Waypoint indices in path array:\\n{wp}\\n\")\n",
        "\n",
        "  delta                   = 0.05  # margin of error with double arithmetic\n",
        "  offset                  = 0     # offset for when we add the 0's to speeds array\n",
        "  path_index              = 0     # current path coordinate\n",
        "  temp_distance_travelled = 0     # stores the interim distance travelled between two path coordinates\n",
        "  insert_indices          = []    # stores the indices of the speed array where we need to insert 0's \n",
        "\n",
        "  for i, distance in enumerate(speeds):\n",
        "    \"\"\"\n",
        "    3 cases regarding the speed travelled:\n",
        "    First: speed + temp_distance_travelled < distance[path_distance_index]\n",
        "      We keep a result of how far we have travelled, and we calculate the fractional coordinate\n",
        "    Second: speed = distance[path_distance_index]\n",
        "      We plot the next point in coordinate per second, increment path_distance_index\n",
        "    Third: speed + temp_distance_travelled > distance[path_distance_index]\n",
        "      Decrement the speed distance, increment path_distance_index\n",
        "      getting the resulting speed to calculate the fractional cooridnate point.\n",
        "        # what happens if we pass our checkpoint in this case? Doing a check with helper function everytime we increment path_distance_index\n",
        "    \"\"\"\n",
        "\n",
        "    total_distance_travelled  = 0 # total distance travelled this second\n",
        "    flag                      = 0 # flag used to indicate if we reached a waypoint\n",
        "\n",
        "    # if we can reach the next path coordinate\n",
        "    while distance + temp_distance_travelled > distances[path_index] - delta:\n",
        "      # update distance to be remainder of distance we can travel this second\n",
        "      distance = distance + temp_distance_travelled - distances[path_index]\n",
        "      # add the distance travelled to our total distance travelled this second\n",
        "      total_distance_travelled += distances[path_index] - temp_distance_travelled\n",
        "      # reset the temp_distance_travelled since we just reached a new path coordinate\n",
        "      temp_distance_travelled = 0\n",
        "\n",
        "      # increment values of path_index and path_index\n",
        "      path_index += 1\n",
        "\n",
        "      # If we reached the end of the coordinate list, exit\n",
        "      if path_index >= len(distances):\n",
        "        if verbose:\n",
        "          print(f\"Travelled {total_distance_travelled} m at second {i}\\n\" \\\n",
        "                f\"New coordinates: {path[path_index]}\\n\"                  \\\n",
        "                \"Race complete!\\n\")\n",
        "        \n",
        "        # insert the 0's from waypoints\n",
        "        for idx in np.flip(insert_indices):\n",
        "          speeds = np.insert(speeds, idx+1, [0] * 45)\n",
        "        return np.array(speeds)\n",
        "\n",
        "      # If we have reached a waypoint/checkpoint, add 0's to speeds\n",
        "      if wp.size > 0 and path_index == wp[0]:\n",
        "        if verbose:\n",
        "          print(f\"Travelled {total_distance_travelled} m at second {i}\\n\" \\\n",
        "                f\"New coordinates: {path[path_index]}\\n\"                  \\\n",
        "                \"Reached a waypoint!\\n\")\n",
        "        \n",
        "        # delete the waypoint we just reached from the wp array\n",
        "        wp = np.delete(wp, 0)\n",
        "        # update the current speed to be only what we travelled this second\n",
        "        speeds[i + offset] = total_distance_travelled\n",
        "        insert_indices.append(i)\n",
        "        distance = 0  # shouldn't travel anymore in this second\n",
        "        flag = 1\n",
        "        break\n",
        "\n",
        "    if flag:\n",
        "      continue\n",
        "\n",
        "    # If I still have distance to travel but can't reach the next coordinate\n",
        "    if distance + temp_distance_travelled < distances[path_index] - delta:\n",
        "      # Update total distance travelled\n",
        "      total_distance_travelled += distance        \n",
        "\n",
        "      # Add onto the temperary distance between two coordinates\n",
        "      temp_distance_travelled += distance\n",
        "      frac_distance_travelled = temp_distance_travelled / distances[path_index]\n",
        "      dx = path[path_index + 1][0] - path[path_index][0]\n",
        "      dy = path[path_index + 1][1] - path[path_index][1]\n",
        "\n",
        "      # Calculate the new coordinates with the fraction of temporary distance travelled\n",
        "      new_coords = [frac_distance_travelled * dx + path[path_index][0],\n",
        "                    frac_distance_travelled * dy + path[path_index][1]]\n",
        "      if verbose:\n",
        "        print(f\"Travelled {total_distance_travelled} m at second {i}\\n\" \\\n",
        "              f\"New coordinates: {new_coords}\\n\")\n",
        "\n",
        "    # If I cover just enough distance to reach a new path coordinate\n",
        "    # elif (distances[path_distance_index] - delta <= distance + temp_distance_travelled <= distances[path_distance_index] + delta):\n",
        "    #   # Update total distance travelled\n",
        "    #   total_distance_travelled += distance\n",
        "    #   print(f\"3. Travelled {total_distance_travelled} m at second {i}\")\n",
        "    #   # print(f\"currently on path idx {path_index}\")\n",
        "\n",
        "    #   # Reset our temp_distance_travelled since we reached a new checkpoint\n",
        "    #   temp_distance_travelled = 0\n",
        "\n",
        "    #   # Increment our values for the path_index and path_distance_index\n",
        "    #   path_index += 1\n",
        "    #   path_distance_index += 1\n",
        "\n",
        "    #   # Add the path coordinate to the coords_by_second array\n",
        "      \n",
        "    #   coords_by_seconds.append(path[path_index])\n",
        "    #   print(f\"New coordinates: {path[path_index]}\")\n",
        "\n",
        "    #   # If we reached the end of the coordinate list, exit\n",
        "    #   if(path_distance_index >= len(distances)):\n",
        "    #     return np.array(speeds)\n",
        "\n",
        "    #   # If we reached a waypoint\n",
        "    #   if wp.size > 0 and path_index == wp[0]:\n",
        "    #     wp = np.delete(wp, 0)\n",
        "    #     speeds[i + offset] = total_distance_travelled\n",
        "    #     speeds = np.insert(speeds, i+1+offset, [1010])\n",
        "    #     offset += 1\n",
        "\n",
        "  if verbose:\n",
        "    print(\"Didn't have enough speed to complete race.\")\n",
        "  # insert the 0's from waypoints\n",
        "  for idx in np.flip(insert_indices):\n",
        "    speeds = np.insert(speeds, idx+1, [0] * 45)\n",
        "  return np.array(speeds)\n"
      ]
    },
    {
      "cell_type": "code",
      "execution_count": 175,
      "metadata": {},
      "outputs": [
        {
          "name": "stdout",
          "output_type": "stream",
          "text": [
            "Waypoint indices in path array:\n",
            "[[1]\n",
            " [2]\n",
            " [3]]\n",
            "\n",
            "Travelled 2.0 m at second 0\n",
            "New coordinates: [0 2]\n",
            "Reached a waypoint!\n",
            "\n",
            "Travelled 1.0 m at second 1\n",
            "New coordinates: [0 3]\n",
            "Reached a waypoint!\n",
            "\n",
            "Travelled 1 m at second 2\n",
            "New coordinates: [0.0, 4.0]\n",
            "\n",
            "Travelled 1.0 m at second 3\n",
            "New coordinates: [0 5]\n",
            "Reached a waypoint!\n",
            "\n",
            "Travelled 1 m at second 4\n",
            "New coordinates: [0.0, 6.0]\n",
            "\n",
            "Travelled 2.0 m at second 5\n",
            "New coordinates: [0 8]\n",
            "Race complete!\n",
            "\n",
            "[2 0 0 0 0 0 0 0 0 0 0 0 0 0 0 0 0 0 0 0 0 0 0 0 0 0 0 0 0 0 0 0 0 0 0 0 0\n",
            " 0 0 0 0 0 0 0 0 0 1 0 0 0 0 0 0 0 0 0 0 0 0 0 0 0 0 0 0 0 0 0 0 0 0 0 0 0\n",
            " 0 0 0 0 0 0 0 0 0 0 0 0 0 0 0 0 0 0 1 1 0 0 0 0 0 0 0 0 0 0 0 0 0 0 0 0 0\n",
            " 0 0 0 0 0 0 0 0 0 0 0 0 0 0 0 0 0 0 0 0 0 0 0 0 0 0 0 0 1 4]\n"
          ]
        }
      ],
      "source": [
        "step5_coord_by_times = step5_match_coords(path=step5_path, distances=step5_path_distances, speeds=step5_speed, waypoints=step5_waypoints, verbose=True)\n",
        "\n",
        "print(step5_coord_by_times)"
      ]
    },
    {
      "cell_type": "code",
      "execution_count": 145,
      "metadata": {},
      "outputs": [],
      "source": [
        "### TESTING CODE\n",
        "\n",
        "def test():\n",
        "\toffset = 0\n",
        "\n",
        "\tinsert = [0,3,4]\n",
        "\n",
        "\twaypoints = np.array([0,2,4])\n",
        "\tarr = np.array([1,2,3,4,5])\n",
        "\t# print(arr)\n",
        "\t# for i, x in enumerate(arr):\n",
        "\t# \tif waypoints.size > 0 and i == waypoints[0]:\n",
        "\t# \t\twaypoints = np.delete(waypoints, 0)\n",
        "\t# \t\tarr = np.insert(arr, i + 1 + offset, [0] * 2)\n",
        "\t# \t\toffset += 2\n",
        "\tprint(arr)\n",
        "\n",
        "\t# insert = np.flip(insert)\n",
        "\n",
        "\tfor x in np.flip(insert):\n",
        "\t\tarr = np.insert(arr, x+1, [0]*10)\n",
        "\n",
        "\tprint(arr)\n"
      ]
    },
    {
      "cell_type": "code",
      "execution_count": 146,
      "metadata": {},
      "outputs": [
        {
          "name": "stdout",
          "output_type": "stream",
          "text": [
            "[1 2 3 4 5]\n",
            "[1 0 0 0 0 0 0 0 0 0 0 2 3 4 0 0 0 0 0 0 0 0 0 0 5 0 0 0 0 0 0 0 0 0 0]\n"
          ]
        }
      ],
      "source": [
        "test()"
      ]
    },
    {
      "cell_type": "markdown",
      "metadata": {},
      "source": [
        "Use simple_plot_graph from helpers.py to graph the speeds to estimate if it is reasonable"
      ]
    }
  ],
  "metadata": {
    "colab": {
      "collapsed_sections": [],
      "name": "coord_by_time.ipynb",
      "provenance": []
    },
    "kernelspec": {
      "display_name": "Python 3",
      "name": "python3"
    },
    "language_info": {
      "codemirror_mode": {
        "name": "ipython",
        "version": 3
      },
      "file_extension": ".py",
      "mimetype": "text/x-python",
      "name": "python",
      "nbconvert_exporter": "python",
      "pygments_lexer": "ipython3",
      "version": "3.9.7"
    }
  },
  "nbformat": 4,
  "nbformat_minor": 0
}
